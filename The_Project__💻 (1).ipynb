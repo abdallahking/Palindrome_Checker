{
  "nbformat": 4,
  "nbformat_minor": 0,
  "metadata": {
    "colab": {
      "provenance": []
    },
    "kernelspec": {
      "name": "python3",
      "display_name": "Python 3"
    },
    "language_info": {
      "name": "python"
    }
  },
  "cells": [
    {
      "cell_type": "markdown",
      "source": [
        "# **PTHN01**\n",
        "\n",
        "##**(Project II)**"
      ],
      "metadata": {
        "id": "CJcCjeFiLmo6"
      }
    },
    {
      "cell_type": "markdown",
      "source": [
        "##The First Project **:**\n",
        "\n",
        "**(**Palindrome Checker**)**"
      ],
      "metadata": {
        "id": "khhKYt9vjFIh"
      }
    },
    {
      "cell_type": "code",
      "source": [
        "print('''================================\n",
        "WELCOME IN PALINDROME CHECKER\n",
        "================================================================================================================================================''')\n",
        "word = input('''Please Enter your [num, word, ...] to check if it a palindrome or no:\n",
        "  >>> : ''')\n",
        "word=word.lower()\n",
        "word = word.replace(\" \", \"\")\n",
        "reverse = word[::-1]\n",
        "\n",
        "if word == reverse:\n",
        "  print(\"your word is Palindrome.\")\n",
        "else:\n",
        "  print(\"your word isn't Palindrome.\")\n",
        "print('''================================================================================================================================================\n",
        "END OF THE BROGRAME\n",
        "===================== ''')"
      ],
      "metadata": {
        "colab": {
          "base_uri": "https://localhost:8080/"
        },
        "id": "OTIEoE1YjfHs",
        "outputId": "5666b505-cae6-4fb2-df45-16b88e7a26bb"
      },
      "execution_count": null,
      "outputs": [
        {
          "output_type": "stream",
          "name": "stdout",
          "text": [
            "================================\n",
            "WELCOME IN PALINDROME CHECKER\n",
            "================================================================================================================================================\n",
            "Please Enter your [num, word, ...] to check if it a palindrome or no:\n",
            "  >>> : hiryt/w4o\n",
            "your word isn't Palindrome.\n",
            "================================================================================================================================================\n",
            "END OF THE BROGRAME\n",
            "===================== \n"
          ]
        }
      ]
    },
    {
      "cell_type": "markdown",
      "source": [
        "##The Second Project **:**\n",
        "\n",
        "**(**Morse Code Translator**)**"
      ],
      "metadata": {
        "id": "CbZhSjpOjgV9"
      }
    },
    {
      "cell_type": "markdown",
      "source": [
        "#### **(**The Dictionaries**)** **:**"
      ],
      "metadata": {
        "id": "mYwdhzWtyaYQ"
      }
    },
    {
      "cell_type": "code",
      "source": [
        "morse_dictionary = {\n",
        "    \"a\": \".-\",\n",
        "    \"b\": \"-...\",\n",
        "    \"c\": \"-.-.\",\n",
        "    \"d\": \"-..\",\n",
        "    \"e\": \".\",\n",
        "    \"f\": \"..-.\",\n",
        "    \"g\": \"--.\",\n",
        "    \"h\": \"....\",\n",
        "    \"i\": \"..\",\n",
        "    \"j\": \".---\",\n",
        "    \"k\": \"-.-\",\n",
        "    \"l\": \".-..\",\n",
        "    \"m\": \"--\",\n",
        "    \"n\": \"-.\",\n",
        "    \"o\": \"---\",\n",
        "    \"p\": \".--.\",\n",
        "    \"q\": \"--.-\",\n",
        "    \"r\": \".-.\",\n",
        "    \"s\": \"...\",\n",
        "    \"t\": \"-\",\n",
        "    \"u\": \"..-\",\n",
        "    \"v\": \"...-\",\n",
        "    \"w\": \".--\",\n",
        "    \"x\": \"-..-\",\n",
        "    \"y\": \"-.--\",\n",
        "    \"z\": \"--..\",\n",
        "    \"0\": \"-----\",\n",
        "    \"1\": \".----\",\n",
        "    \"2\": \"..---\",\n",
        "    \"3\": \"...--\",\n",
        "    \"4\": \"....-\",\n",
        "    \"5\": \".....\",\n",
        "    \"6\": \"-....\",\n",
        "    \"7\": \"--...\",\n",
        "    \"8\": \"---..\",\n",
        "    \"9\": \"----.\",\n",
        "    \"ا\": \".-\",\n",
        "    \" \": \" \",\n",
        "    \"ب\": \"-...\",\n",
        "    \"ت\": \"-\",\n",
        "    \"ث\": \"-.-.\",\n",
        "    \"ج\": \".---\",\n",
        "    \"ح\": \"....\",\n",
        "    \"خ\": \"---\",\n",
        "    \"د\": \"-..\",\n",
        "    \"ذ\": \"--..\",\n",
        "    \"ر\": \".-.\",\n",
        "    \"ز\": \"---.\",\n",
        "    \"س\": \"...\",\n",
        "    \"ش\": \"----\",\n",
        "    \"ص\": \"-..-\",\n",
        "    \"ض\": \"...-\",\n",
        "    \"ط\": \"..-\",\n",
        "    \"ظ\": \"-.--\",\n",
        "    \"ع\": \".-.-\",\n",
        "    \"غ\": \"--.\",\n",
        "    \"ف\": \"..-.\",\n",
        "    \"ق\": \"--.-\",\n",
        "    \"ك\": \"-.-\",\n",
        "    \"ل\": \".-..\",\n",
        "    \"م\": \"--\",\n",
        "    \"ن\": \"-.\",\n",
        "    \"ه\": \"..-..\",\n",
        "    \"و\": \".--\",\n",
        "    \"ي\": \"..\",\n",
        "    \"ء\": \".\",\n",
        "    \"ئ\": \".\",\n",
        "    \"ؤ\": \".\",\n",
        "    \"ة\": \"..-..\",\n",
        "    \"ى\": \"..\",\n",
        "    \"إ\": \".-\",\n",
        "    \"أ\": \".-\",\n",
        "    \".\": \".-.-.-\",\n",
        "    \",\": \"--..--\",\n",
        "    \"،\": \"--..--\",\n",
        "    \";\": \"--..--\",\n",
        "    \"؛\": \"--..--\",\n",
        "    \":\": \"---...\",\n",
        "    \"?\": \"..--..\",\n",
        "    \"!\": \"-.-.--\",\n",
        "    \"-\": \"-....-\",\n",
        "    \"/\": \"-..-.\",\n",
        "    \"(\": \"-.--.-\",\n",
        "    \")\": \"-.--.-\",\n",
        "    '\"': \".-..-.\",\n",
        "    \"'\": \".----.\",\n",
        "    \"`\": \".----.\",\n",
        "    \"+\": \".-.-.\",\n",
        "    \"=\": \"-...-\",\n",
        "    \"_\": \"..--.-\",\n",
        "    \"$\": \"...-..-\",\n",
        "    \"@\": \".--._.\",\n",
        "    \"&\": \".-...\",\n",
        "    \"؟\": \"..--..\"\n",
        "}"
      ],
      "metadata": {
        "id": "yAAqzh6jkEHk"
      },
      "execution_count": null,
      "outputs": []
    },
    {
      "cell_type": "markdown",
      "source": [
        "#### **(**The Code**)** **:**"
      ],
      "metadata": {
        "id": "J0poSlGP0t55"
      }
    },
    {
      "cell_type": "code",
      "source": [
        "print('''================================\n",
        "WELCOME IN MORSE CODE TRANSLATOR\n",
        "================================================================================================================================================''')\n",
        "text = input('''Write your sen to translate it to MORSE CODE\n",
        ">>> : ''')\n",
        "text = text.lower()\n",
        "\n",
        "morse_sen = \"\"\n",
        "for litte in text:\n",
        "  if litte in morse_dictionary:\n",
        "    morse_sen += morse_dictionary[litte]\n",
        "  if litte not in morse_dictionary:\n",
        "    print(f\"I can not understand {text}. Are you meaning onether word?\")\n",
        "print(f'''The translate is :\n",
        "{morse_sen}''')\n",
        "print('''================================================================================================================================================\n",
        "END OF THE BROGRAM\n",
        "===================''')"
      ],
      "metadata": {
        "colab": {
          "base_uri": "https://localhost:8080/"
        },
        "id": "OedzdR5ly80H",
        "outputId": "c36f5274-a212-45b8-8d27-a13daff64a94"
      },
      "execution_count": null,
      "outputs": [
        {
          "output_type": "stream",
          "name": "stdout",
          "text": [
            "================================\n",
            "WELCOME IN MORSE CODE TRANSLATOR\n",
            "================================================================================================================================================\n",
            "Write your sen to translate it to MORSE CODE\n",
            ">>> : عبد الله\n",
            "The translate is :\n",
            ".-.--...-.. .-.-...-....-..\n",
            "================================================================================================================================================\n",
            "END OF THE BROGRAM\n",
            "===================\n"
          ]
        }
      ]
    },
    {
      "cell_type": "markdown",
      "source": [
        "##The Third Project **:**\n",
        "**(**Converter App**)**"
      ],
      "metadata": {
        "id": "F5ZeZyIKkTbi"
      }
    },
    {
      "cell_type": "code",
      "source": [
        "print('''==========================\n",
        "WELCOME IN CONVERTER APP\n",
        "================================================================================================================================================''')\n",
        "user_choose = input('''choose one of :\n",
        "1) turn from Celsius to Fahrenheit or the opposite.\n",
        "2) turn from meter to centimeter or The opposite.\n",
        "3) turn from kilogram to gram or the opposite.\n",
        "   [Write : (1, 2, or 3)].\n",
        ">>> : ''')\n",
        "if user_choose == \"1\":\n",
        "  unit = input('''Are you want to turn from (Celsius) to (Fahrenheit) or the opposite?\n",
        "  [write (f) to turn from (Fahrenheit) to (Celsius).]\n",
        "  [write (c) to turn from (Celsius) to (Fahrenheit).]\n",
        "    >>> : ''')\n",
        "  unit = unit.lower()\n",
        "  Temp = float(input(f'''You choose {unit}, then write the temp(num).\n",
        "  >>> : '''))\n",
        "  if unit == \"c\":\n",
        "    Temp = round((9 * Temp) / 5 + 32, 1)\n",
        "    print(f'''The temp in Fahrenheit is {Temp}°F.\n",
        "    ''')\n",
        "  elif unit == \"f\":\n",
        "    Temp = round((Temp - 32) * 5 / 9, 1)\n",
        "    print(f'''The temp in Celsius is {Temp}°C.\n",
        "    ''')\n",
        "  else :\n",
        "    print(f\"{unit} is an invalid unit of measurement.\")\n",
        "  print('''================================================================================================================================================\n",
        "END OF THE BROGRAME\n",
        "===================== ''')\n",
        "elif user_choose == '2':\n",
        "  m_or_cm = input('''Are you want to turn from (meter) to (centimeter), or The opposite.\n",
        "  [Write (m) to turn from meter to centimeter.]\n",
        "  [Write (cm) to turn from centimeter to meter.]\n",
        "    >>> : ''')\n",
        "  distance = int(input(f'''You choose {m_or_cm}, Then write the distance(num)\n",
        "  >>> : '''))\n",
        "  if m_or_cm.lower() == \"m\":\n",
        "    centimeter = distance * 100\n",
        "    print(f'''your distance in centimeter is {centimeter} cm''')\n",
        "  elif m_or_cm.lower() == \"cm\":\n",
        "    meter = distance / 100\n",
        "    print(f'''your distance in meter is {meter} m''')\n",
        "  else :\n",
        "    print(f\"{m_or_cm} is an invalid unit of measurement.\")\n",
        "  print('''================================================================================================================================================\n",
        "END OF THE BROGRAME\n",
        "===================== ''')\n",
        "if user_choose == \"3\":\n",
        "  Unit = input('''Are you want to turn from (kilogram) to (gram) or the opposite.\n",
        "  [Write (Kg) to turn from kilogram to gram.]\n",
        "  [Write (gr) to turn from gram to kilogram.]\n",
        "  >>> : ''')\n",
        "  weight = int(input(f'''you choose {Unit}, Then write the weight(num).\n",
        "  >>> : '''))\n",
        "  if Unit.lower() == \"Kg\":\n",
        "    gram = weight * 1000\n",
        "    print(f\"Your weight in gram is {gram}gr.\")\n",
        "  elif Unit.lower() == \"gr\":\n",
        "    kilogram = weight / 1000\n",
        "    print(f\"Your weight in kilogram is {kilogram}Kg.\")\n",
        "  else :\n",
        "    print(f\"{Unit} is an invalid unit of measurement.\")\n",
        "  print('''================================================================================================================================================\n",
        "END OF THE BROGRAME\n",
        "===================== ''')"
      ],
      "metadata": {
        "id": "6QxyvnNRl_LY",
        "colab": {
          "base_uri": "https://localhost:8080/"
        },
        "outputId": "54cb1ebc-9acd-41c0-f785-332d85315727"
      },
      "execution_count": null,
      "outputs": [
        {
          "output_type": "stream",
          "name": "stdout",
          "text": [
            "==========================\n",
            "WELCOME IN CONVERTER APP\n",
            "================================================================================================================================================\n",
            "choose one of :\n",
            "1) turn from Celsius to Fahrenheit or the opposite.\n",
            "2) turn from meter to centimeter or The opposite.\n",
            "3) turn from kilogram to gram or the opposite.\n",
            "   [Write : (1, 2, or 3)].\n",
            ">>> : 2\n",
            "Are you want to turn from (meter) to (centimeter), or The opposite.\n",
            "  [Write (m) to turn from meter to centimeter.]\n",
            "  [Write (cm) to turn from centimeter to meter.]\n",
            "    >>> : cm\n",
            "You choose cm, Then write the value : 256541639\n",
            "your distance in meter is 2565416.39 m\n",
            "================================================================================================================================================\n",
            "END OF THE BROGRAME\n",
            "===================== \n"
          ]
        }
      ]
    },
    {
      "cell_type": "code",
      "source": [
        "m_or_cm = input('''Are you want to turn from (meter) to (centimeter), or The opposite.\n",
        "[Write \"m\" to turn from meter to centimeter.]\n",
        "[Write \"cm\" to turn from centimeter to meter.]\n",
        ">>> : ''')\n",
        "distance = int(input(f\"You choose {m_or_cm}, Then write the value : \"))\n",
        "if m_or_cm.lower() == \"m\":\n",
        "  centimeter = distance * 100\n",
        "  print(f\"your value in centimeter is {centimeter} cm\")\n",
        "elif m_or_cm.lower() == \"cm\":\n",
        "  meter = distance / 100\n",
        "  print(f\"your value in meter is {meter} m\")\n",
        "else :\n",
        "  print(\"I can not understand what you write.\")\n",
        "\n",
        "Unit = input('''Are you want to turn from kilogram to gram or the opposite.\n",
        "[Write \"km\" to turn from kilogram to gram.]\n",
        "[Write \"gr\" to turn from gram to kilogram.]\n",
        ">>> : ''')\n",
        "wahite = int(input(f'''you choose {Unit}, Then write the value(num).\n",
        ">>> : '''))\n",
        "if Unit.lower() == \"km\":\n",
        "  gram = wahite * 1000\n",
        "  print(f\"Your value in gram is {gram}gr.\")\n",
        "elif Unit.lower() == \"gr\":\n",
        "  kilogram = wahite / 1000\n",
        "  print(f\"Your value in kilogram is {kilogram}km.\")\n",
        "else :\n",
        "  print(f\"I con not understand {Unit}.\")\n"
      ],
      "metadata": {
        "colab": {
          "base_uri": "https://localhost:8080/"
        },
        "id": "4LPms0cMKCd8",
        "outputId": "bd19cefc-ee82-43bb-da84-5edb9d62ac5f"
      },
      "execution_count": null,
      "outputs": [
        {
          "output_type": "stream",
          "name": "stdout",
          "text": [
            "Are you want to turn from (meter) to (centimeter), or The opposite.\n",
            "[Write \"m\" to turn from meter to centimeter.]\n",
            "[Write \"cm\" to turn from centimeter to meter.]\n",
            ">>> : mio\n",
            "You choose mio, Then write the value : 55\n",
            "I can not understand what you write.\n"
          ]
        }
      ]
    },
    {
      "cell_type": "code",
      "source": [
        "Unit = input('''Are you want to turn from kilogram to gram or the opposite.\n",
        "[Write \"km\" to turn from kilogram to gram.]\n",
        "[Write \"gr\" to turn from gram to kilogram.]\n",
        ">>> : ''')\n",
        "wahite = int(input(f'''you choose {Unit}, Then write the value(num).\n",
        ">>> : '''))\n",
        "if Unit.lower() == \"km\":\n",
        "  gram = wahite * 1000\n",
        "  print(f\"Your value in gram is {gram}gr.\")\n",
        "elif Unit.lower() == \"gr\":\n",
        "  kilogram = wahite / 1000\n",
        "  print(f\"Your value in kilogram is {kilogram}km.\")\n",
        "else :\n",
        "  print(f\"I con not understand {Unit}.\")\n"
      ],
      "metadata": {
        "colab": {
          "base_uri": "https://localhost:8080/"
        },
        "id": "4eTrVtW8RGru",
        "outputId": "246a2109-4eb3-4017-c631-b3e01a6ea19d"
      },
      "execution_count": null,
      "outputs": [
        {
          "output_type": "stream",
          "name": "stdout",
          "text": [
            "Are you want to turn from kilogram to gram or the opposite.\n",
            "[Write \"km\" to turn from kilogram to gram.]\n",
            "[Write \"gr\" to turn from gram to kilogram.]\n",
            ">>> : km\n",
            "you choose km, Then write the value(nuum).\n",
            ">>> : 52562\n",
            "Your value in gram is 52562000gr.\n"
          ]
        }
      ]
    }
  ]
}