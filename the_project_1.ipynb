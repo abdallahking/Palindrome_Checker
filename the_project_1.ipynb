{
  "nbformat": 4,
  "nbformat_minor": 0,
  "metadata": {
    "colab": {
      "provenance": []
    },
    "kernelspec": {
      "name": "python3",
      "display_name": "Python 3"
    },
    "language_info": {
      "name": "python"
    }
  },
  "cells": [
    {
      "cell_type": "markdown",
      "source": [
        "## The First Project **:**\n",
        "**(**Palindrome Checker**)**"
      ],
      "metadata": {
        "id": "MV0pkVuHLZJq"
      }
    },
    {
      "cell_type": "code",
      "source": [
        "print('''================================\n",
        "WELCOME IN PALINDROME CHECKER\n",
        "================================================================================================================================================''')\n",
        "word = input('''Please Enter your [num, word, ...] to check if it a palindrome or no:\n",
        "  >>> : ''')\n",
        "word=word.lower()\n",
        "word = word.replace(\" \", \"\")\n",
        "reverse = word[::-1]\n",
        "\n",
        "if word == reverse:\n",
        "  print(\"your word is Palindrome.\")\n",
        "else:\n",
        "  print(\"your word isn't Palindrome.\")\n",
        "print('''================================================================================================================================================\n",
        "END OF THE BROGRAME\n",
        "===================== ''')"
      ],
      "metadata": {
        "id": "sik0tNvdLk0j"
      },
      "execution_count": null,
      "outputs": []
    }
  ]
}